{
 "cells": [
  {
   "cell_type": "code",
   "execution_count": 1,
   "id": "f54a4a9e-a9de-4d88-8c9e-949d9786245c",
   "metadata": {},
   "outputs": [],
   "source": [
    "%matplotlib widget\n",
    "%load_ext autoreload\n",
    "%autoreload 2"
   ]
  },
  {
   "cell_type": "code",
   "execution_count": 2,
   "id": "954bffe1-6267-4c36-9a92-60a0c5964c7b",
   "metadata": {},
   "outputs": [],
   "source": [
    "import datetime as dt\n",
    "import numpy as np\n",
    "import matplotlib.pyplot as plt\n",
    "import pandas as pd\n",
    "\n",
    "from data_constructor import DataConstructor\n",
    "from modules.data_clustering import DataClustering\n",
    "from modules.data_processing import DataProcessor\n",
    "from modules.models import TimePeriod"
   ]
  },
  {
   "cell_type": "markdown",
   "id": "5c191c06-db5f-4463-ae61-0a6844597743",
   "metadata": {},
   "source": [
    "## Constructing data\n",
    "- Fetching from database\n",
    "- Filling gaps in data\n",
    "- Data is fully preprocessed\n",
    "\n",
    "Tickers average volumes are also retrieved"
   ]
  },
  {
   "cell_type": "code",
   "execution_count": 3,
   "id": "fde1e5e4-004b-4d68-8681-be206cf365bd",
   "metadata": {},
   "outputs": [
    {
     "name": "stderr",
     "output_type": "stream",
     "text": [
      "Constructing dataframe: 100%|██████████| 169/169 [05:35<00:00,  1.99s/it]\n"
     ]
    },
    {
     "name": "stdout",
     "output_type": "stream",
     "text": [
      "=== Log ===\n",
      "=== Diff ===\n",
      "=== Std normalization ===\n",
      "=== Ordering tickers ===\n"
     ]
    },
    {
     "name": "stderr",
     "output_type": "stream",
     "text": [
      "Collecting coin volume means: 100%|██████████| 136/136 [03:03<00:00,  1.35s/it]\n",
      "Collecting coin volume means: 100%|██████████| 136/136 [00:25<00:00,  5.43it/s]\n"
     ]
    }
   ],
   "source": [
    "dc = DataConstructor()\n",
    "\n",
    "time_period = TimePeriod(dt_from=dt.datetime(2022, 1, 1), dt_to=dt.datetime(2023, 1, 1))\n",
    "df, tickers = dc.construct_df(time_period, filter_stablecoins=True)\n",
    "df_vol = dc.get_ticker_average_vol(time_period, tickers)\n",
    "\n",
    "factors, weights, variance = DataProcessor.data_process_pca(df, tickers)\n",
    "\n",
    "weight_slice = weights[:3]\n",
    "# weight_labels = DataClustering.cluster_meanshift(weight_slice.T)\n",
    "weight_labels = DataClustering.cluster_dbscan(weight_slice.T, eps=0.04, min_samples=3)"
   ]
  },
  {
   "cell_type": "markdown",
   "id": "a3b56e65-1ae1-4eed-abd8-3bf1ec03036e",
   "metadata": {},
   "source": [
    "Coins for each of the clusters are selected, sorted by their mean volume and saved in csv files so it's easier to view them "
   ]
  },
  {
   "cell_type": "code",
   "execution_count": null,
   "id": "df955ff7-0c57-43cd-bd10-924ee00a4b0e",
   "metadata": {},
   "outputs": [
    {
     "name": "stdout",
     "output_type": "stream",
     "text": [
      "BTCUSDT, ETHUSDT, SLPUSDT, CAKEUSDT, VOXELUSDT, BETAUSDT, PYRUSDT, VGXUSDT, QNTUSDT, INJUSDT, FXSUSDT, OOKIUSDT, COCOSUSDT, HIGHUSDT, FETUSDT, PHAUSDT, CTXCUSDT, VIDTUSDT, FIDAUSDT, AMPUSDT, CVXUSDT, COSUSDT, PERPUSDT, MDXUSDT, STXUSDT, TVKUSDT, TKOUSDT, AUTOUSDT, FISUSDT, WANUSDT, \n"
     ]
    }
   ],
   "source": [
    "idxes = np.where(weight_labels == 0)[0]\n",
    "label_tickers = [tickers[i] for i in idxes]\n",
    "\n",
    "df_vol_cluster = df_vol.loc[label_tickers]\n",
    "df_vol_cluster = df_vol_cluster.sort_values(by=['vol_quote'], ascending=False)\n",
    "\n",
    "df_vol_cluster.to_csv('cluster_1_tickers.csv')"
   ]
  },
  {
   "cell_type": "code",
   "execution_count": null,
   "id": "31e3fd9e-02a4-4023-910d-73e26daebb35",
   "metadata": {},
   "outputs": [
    {
     "name": "stdout",
     "output_type": "stream",
     "text": [
      "BNBUSDT, SOLUSDT, XRPUSDT, LUNAUSDT, DOGEUSDT, SHIBUSDT, ADAUSDT, FTMUSDT, AVAXUSDT, NEARUSDT, GALAUSDT, DOTUSDT, TRXUSDT, ATOMUSDT, SANDUSDT, ETCUSDT, LINKUSDT, LTCUSDT, FILUSDT, WAVESUSDT, ZILUSDT, CHZUSDT, JASMYUSDT, ROSEUSDT, RUNEUSDT, AXSUSDT, ICPUSDT, CRVUSDT, PEOPLEUSDT, VETUSDT, EOSUSDT, ONEUSDT, ALGOUSDT, LRCUSDT, THETAUSDT, AAVEUSDT, DYDXUSDT, ENSUSDT, EGLDUSDT, UNIUSDT, SUSHIUSDT, UNFIUSDT, XMRUSDT, BCHUSDT, ZECUSDT, ALICEUSDT, GRTUSDT, MASKUSDT, KNCUSDT, OGNUSDT, CHRUSDT, KAVAUSDT, CELOUSDT, FLOWUSDT, ARUSDT, ENJUSDT, SNXUSDT, XLMUSDT, OMGUSDT, RSRUSDT, XTZUSDT, BAKEUSDT, RVNUSDT, YFIUSDT, CELRUSDT, SXPUSDT, DASHUSDT, HOTUSDT, KLAYUSDT, ANTUSDT, IOTXUSDT, NEOUSDT, AUDIOUSDT, BATUSDT, LINAUSDT, REEFUSDT, HBARUSDT, C98USDT, YFIIUSDT, COMPUSDT, DENTUSDT, COTIUSDT, KSMUSDT, ANKRUSDT, SFPUSDT, BANDUSDT, OCEANUSDT, GTCUSDT, BLZUSDT, ZRXUSDT, YGGUSDT, TRBUSDT, RENUSDT, ATAUSDT, STORJUSDT, ONTUSDT, ZENUSDT, RLCUSDT, LPTUSDT, \n"
     ]
    }
   ],
   "source": [
    "idxes = np.where(weight_labels == 1)[0]\n",
    "label_tickers = [tickers[i] for i in idxes]\n",
    "\n",
    "df_vol_cluster = df_vol.loc[label_tickers]\n",
    "df_vol_cluster = df_vol_cluster.sort_values(by=['vol_quote'], ascending=False)\n",
    "\n",
    "df_vol_cluster.to_csv('cluster_2_tickers.csv')"
   ]
  },
  {
   "cell_type": "code",
   "execution_count": null,
   "id": "9b51a387-dd23-460c-8d65-88e9a3af8844",
   "metadata": {},
   "outputs": [
    {
     "name": "stdout",
     "output_type": "stream",
     "text": [
      "OGUSDT, ACMUSDT, ATMUSDT, \n"
     ]
    }
   ],
   "source": [
    "idxes = np.where(weight_labels == 2)[0]\n",
    "label_tickers = [tickers[i] for i in idxes]\n",
    "\n",
    "df_vol_cluster = df_vol.loc[label_tickers]\n",
    "df_vol_cluster = df_vol_cluster.sort_values(by=['vol_quote'], ascending=False)\n",
    "\n",
    "df_vol_cluster.to_csv('cluster_3_tickers.csv')"
   ]
  }
 ],
 "metadata": {
  "kernelspec": {
   "display_name": "Python 3 (ipykernel)",
   "language": "python",
   "name": "python3"
  },
  "language_info": {
   "codemirror_mode": {
    "name": "ipython",
    "version": 3
   },
   "file_extension": ".py",
   "mimetype": "text/x-python",
   "name": "python",
   "nbconvert_exporter": "python",
   "pygments_lexer": "ipython3",
   "version": "3.10.8"
  }
 },
 "nbformat": 4,
 "nbformat_minor": 5
}
